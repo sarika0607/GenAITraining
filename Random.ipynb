{
  "nbformat": 4,
  "nbformat_minor": 0,
  "metadata": {
    "colab": {
      "provenance": [],
      "authorship_tag": "ABX9TyML+jRR0LRC8SkTHgkwNv1y",
      "include_colab_link": true
    },
    "kernelspec": {
      "name": "python3",
      "display_name": "Python 3"
    },
    "language_info": {
      "name": "python"
    }
  },
  "cells": [
    {
      "cell_type": "markdown",
      "metadata": {
        "id": "view-in-github",
        "colab_type": "text"
      },
      "source": [
        "<a href=\"https://colab.research.google.com/github/sarika0607/GenAITraining/blob/main/Random.ipynb\" target=\"_parent\"><img src=\"https://colab.research.google.com/assets/colab-badge.svg\" alt=\"Open In Colab\"/></a>"
      ]
    },
    {
      "cell_type": "code",
      "execution_count": 10,
      "metadata": {
        "id": "B9R8xoc_06CF"
      },
      "outputs": [],
      "source": [
        "import random\n",
        "\n",
        "class FlashCard:\n",
        "\n",
        "    def __init__(self):\n",
        "        self.fruits = {\"banana\": \"yellow\", \"orange\": \"orange\", \"apple\": \"red\"}\n",
        "\n",
        "    def check_value(self, key, user_value):\n",
        "        if self.fruits[key] == user_value:\n",
        "            print('correct')\n",
        "        else:\n",
        "            print('Wrong')\n",
        "\n",
        "        # assert self.fruits[key] == user_value # with try catch\n",
        "\n",
        "    def random_selection(self):\n",
        "        return random.choice(list(self.fruits.keys()))\n",
        "\n",
        "    def flash_item(self):\n",
        "\n",
        "        while(True):\n",
        "            key = self.random_selection()\n",
        "            user_input = input(f'What is the color of {key}: ')\n",
        "            self.check_value(key, user_input)\n",
        "\n",
        "            go_again = int(input(f\"Press 1 to continue: \"))\n",
        "\n",
        "            if go_again != 1:\n",
        "                break\n",
        "\n"
      ]
    },
    {
      "cell_type": "code",
      "source": [],
      "metadata": {
        "id": "GfSMX8P07Dmc"
      },
      "execution_count": null,
      "outputs": []
    },
    {
      "cell_type": "code",
      "source": [],
      "metadata": {
        "id": "eJaw8gRi7D1P"
      },
      "execution_count": null,
      "outputs": []
    },
    {
      "cell_type": "code",
      "source": [
        "\n",
        "my_obj = FlashCard()\n",
        "my_obj.flash_item()"
      ],
      "metadata": {
        "colab": {
          "base_uri": "https://localhost:8080/"
        },
        "id": "aqAWx_Xl29Jw",
        "outputId": "70966e02-3006-4809-96af-2dda3ad682e0"
      },
      "execution_count": 11,
      "outputs": [
        {
          "name": "stdout",
          "output_type": "stream",
          "text": [
            "What is the color of apple: Y\n",
            "Wrong\n",
            "Press 1 to continue: ')0\n"
          ]
        }
      ]
    }
  ]
}