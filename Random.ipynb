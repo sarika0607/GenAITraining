{
  "nbformat": 4,
  "nbformat_minor": 0,
  "metadata": {
    "colab": {
      "provenance": [],
      "authorship_tag": "ABX9TyM0D4vVowz6uIvNVkQdBt1b",
      "include_colab_link": true
    },
    "kernelspec": {
      "name": "python3",
      "display_name": "Python 3"
    },
    "language_info": {
      "name": "python"
    }
  },
  "cells": [
    {
      "cell_type": "markdown",
      "metadata": {
        "id": "view-in-github",
        "colab_type": "text"
      },
      "source": [
        "<a href=\"https://colab.research.google.com/github/sarika0607/GenAITraining/blob/main/Random.ipynb\" target=\"_parent\"><img src=\"https://colab.research.google.com/assets/colab-badge.svg\" alt=\"Open In Colab\"/></a>"
      ]
    },
    {
      "cell_type": "code",
      "execution_count": 9,
      "metadata": {
        "colab": {
          "base_uri": "https://localhost:8080/"
        },
        "id": "B9R8xoc_06CF",
        "outputId": "5a581078-3f7e-4a90-e751-f6ba2b01d5db"
      },
      "outputs": [
        {
          "output_type": "stream",
          "name": "stdout",
          "text": [
            "What is the color of bananaRed\n",
            "Wrong\n"
          ]
        }
      ],
      "source": [
        "import random\n",
        "\n",
        "class FlashCard:\n",
        "\n",
        "    def __init__(self):\n",
        "        self.fruits = {\"banana\": \"yellow\", \"orange\": \"orange\", \"apple\": \"red\"}\n",
        "\n",
        "    def check_value(self, key, user_value):\n",
        "        if self.fruits[key] == user_value:\n",
        "            print('correct')\n",
        "        else:\n",
        "            print('Wrong')\n",
        "\n",
        "    def random_selection(self):\n",
        "        return random.choice(list(self.fruits.keys()))\n",
        "\n",
        "my_obj = FlashCard()\n",
        "key = my_obj.random_selection()\n",
        "user_input = input(f'What is the color of {key}')\n",
        "my_obj.check_value(key, user_input)\n",
        "\n",
        "\n",
        "# print(f'Random_key : {random_key}')\n",
        "# print(f'Color : {my_obj.fruits[random_key]}')"
      ]
    },
    {
      "cell_type": "code",
      "source": [],
      "metadata": {
        "id": "aqAWx_Xl29Jw"
      },
      "execution_count": null,
      "outputs": []
    }
  ]
}