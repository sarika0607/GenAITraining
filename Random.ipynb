{
  "nbformat": 4,
  "nbformat_minor": 0,
  "metadata": {
    "colab": {
      "provenance": [],
      "authorship_tag": "ABX9TyOoZb0d7LQpKBbUZvgeM22u",
      "include_colab_link": true
    },
    "kernelspec": {
      "name": "python3",
      "display_name": "Python 3"
    },
    "language_info": {
      "name": "python"
    }
  },
  "cells": [
    {
      "cell_type": "markdown",
      "metadata": {
        "id": "view-in-github",
        "colab_type": "text"
      },
      "source": [
        "<a href=\"https://colab.research.google.com/github/sarika0607/GenAITraining/blob/main/Random.ipynb\" target=\"_parent\"><img src=\"https://colab.research.google.com/assets/colab-badge.svg\" alt=\"Open In Colab\"/></a>"
      ]
    },
    {
      "cell_type": "code",
      "execution_count": 6,
      "metadata": {
        "colab": {
          "base_uri": "https://localhost:8080/"
        },
        "id": "B9R8xoc_06CF",
        "outputId": "5414fb22-9840-45a6-fbea-092e7e9d3e0a"
      },
      "outputs": [
        {
          "output_type": "stream",
          "name": "stdout",
          "text": [
            "Random_key : apple\n",
            "Color : red\n"
          ]
        }
      ],
      "source": [
        "import random\n",
        "\n",
        "class FlashCard:\n",
        "\n",
        "    def __init__(self):\n",
        "        self.fruits = {\"banana\": \"yellow\", \"orange\": \"orange\", \"apple\": \"red\"}\n",
        "\n",
        "my_obj = FlashCard()\n",
        "random_key = random.choice(list(my_obj.fruits.keys()))\n",
        "\n",
        "\n",
        "print(f'Random_key : {random_key}')\n",
        "print(f'Color : {my_obj.fruits[random_key]}')"
      ]
    },
    {
      "cell_type": "code",
      "source": [],
      "metadata": {
        "id": "aqAWx_Xl29Jw"
      },
      "execution_count": null,
      "outputs": []
    }
  ]
}