{
  "nbformat": 4,
  "nbformat_minor": 0,
  "metadata": {
    "colab": {
      "provenance": [],
      "authorship_tag": "ABX9TyONZpM9Hb/hWnmKEGwitwgo",
      "include_colab_link": true
    },
    "kernelspec": {
      "name": "python3",
      "display_name": "Python 3"
    },
    "language_info": {
      "name": "python"
    }
  },
  "cells": [
    {
      "cell_type": "markdown",
      "metadata": {
        "id": "view-in-github",
        "colab_type": "text"
      },
      "source": [
        "<a href=\"https://colab.research.google.com/github/sarika0607/GenAITraining/blob/main/Vocab.ipynb\" target=\"_parent\"><img src=\"https://colab.research.google.com/assets/colab-badge.svg\" alt=\"Open In Colab\"/></a>"
      ]
    },
    {
      "cell_type": "code",
      "execution_count": 9,
      "metadata": {
        "id": "HfJadJ82EOL-"
      },
      "outputs": [],
      "source": [
        "sentences = [ \"the quick brown fox jumps over the brown dog\", \"the dog barks loudly\", \"the cat sleeps peacefully\" ]"
      ]
    },
    {
      "cell_type": "code",
      "source": [
        "corpus = len(sentences)\n",
        "count_dict = {}\n",
        "uniq_token_list = []\n",
        "print(corpus)\n",
        "for sentence in sentences:\n",
        "    count_dict = {}\n",
        "    token_list = []\n",
        "    for token in sentence.split():\n",
        "        if token in count_dict:\n",
        "            count_dict[token] += 1\n",
        "        else:\n",
        "            count_dict[token] = 1\n",
        "\n",
        "        if token not in token_list:\n",
        "            token_list.append(token)\n",
        "\n",
        "        if token not in uniq_token_list:\n",
        "            uniq_token_list.append(token)\n",
        "\n",
        "\n",
        "    print(count_dict)\n",
        "\n",
        "vocab = {index: value for index, value in enumerate(uniq_token_list)}\n",
        "print(vocab)"
      ],
      "metadata": {
        "colab": {
          "base_uri": "https://localhost:8080/"
        },
        "id": "tctUck5UFADj",
        "outputId": "5f918dcc-aff1-4036-c358-d96ac5e03672"
      },
      "execution_count": 22,
      "outputs": [
        {
          "output_type": "stream",
          "name": "stdout",
          "text": [
            "3\n",
            "{'the': 2, 'quick': 1, 'brown': 2, 'fox': 1, 'jumps': 1, 'over': 1, 'dog': 1}\n",
            "{'the': 1, 'dog': 1, 'barks': 1, 'loudly': 1}\n",
            "{'the': 1, 'cat': 1, 'sleeps': 1, 'peacefully': 1}\n",
            "{0: 'the', 1: 'quick', 2: 'brown', 3: 'fox', 4: 'jumps', 5: 'over', 6: 'dog', 7: 'barks', 8: 'loudly', 9: 'cat', 10: 'sleeps', 11: 'peacefully'}\n"
          ]
        }
      ]
    },
    {
      "cell_type": "code",
      "source": [
        "count_dict"
      ],
      "metadata": {
        "colab": {
          "base_uri": "https://localhost:8080/"
        },
        "id": "OcWrasLcHl1r",
        "outputId": "1a491a73-0497-4129-bf29-c6302e4a8a59"
      },
      "execution_count": 14,
      "outputs": [
        {
          "output_type": "execute_result",
          "data": {
            "text/plain": [
              "{'the': 4,\n",
              " 'quick': 1,\n",
              " 'brown': 2,\n",
              " 'fox': 1,\n",
              " 'jumps': 1,\n",
              " 'over': 1,\n",
              " 'dog': 2,\n",
              " 'barks': 1,\n",
              " 'loudly': 1,\n",
              " 'cat': 1,\n",
              " 'sleeps': 1,\n",
              " 'peacefully': 1}"
            ]
          },
          "metadata": {},
          "execution_count": 14
        }
      ]
    }
  ]
}